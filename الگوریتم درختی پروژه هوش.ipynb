{
 "cells": [
  {
   "cell_type": "code",
   "execution_count": 7,
   "id": "8b4d77a9-1388-4503-b1b9-4eddeb04aaaa",
   "metadata": {},
   "outputs": [
    {
     "name": "stderr",
     "output_type": "stream",
     "text": [
      "<frozen runpy>:128: RuntimeWarning: 'nltk.downloader' found in sys.modules after import of package 'nltk', but prior to execution of 'nltk.downloader'; this may result in unpredictable behaviour\n",
      "[nltk_data] Downloading package stopwords to\n",
      "[nltk_data]     C:\\Users\\Ahmadreza\\AppData\\Roaming\\nltk_data...\n",
      "[nltk_data]   Unzipping corpora\\stopwords.zip.\n"
     ]
    }
   ],
   "source": [
    "!python -m nltk.downloader stopwords\n"
   ]
  },
  {
   "cell_type": "code",
   "execution_count": 1,
   "id": "015c2cf0-2875-4f03-95c0-bf85f20930a1",
   "metadata": {},
   "outputs": [
    {
     "name": "stderr",
     "output_type": "stream",
     "text": [
      "[nltk_data] Downloading package stopwords to\n",
      "[nltk_data]     C:\\Users\\Ahmadreza\\AppData\\Roaming\\nltk_data...\n",
      "[nltk_data]   Package stopwords is already up-to-date!\n"
     ]
    },
    {
     "name": "stdin",
     "output_type": "stream",
     "text": [
      "سوال خود را بپرسید:  What is your name?\n"
     ]
    },
    {
     "name": "stdout",
     "output_type": "stream",
     "text": [
      "پاسخ: Ahmadreza\n"
     ]
    },
    {
     "name": "stdin",
     "output_type": "stream",
     "text": [
      "سوال خود را بپرسید:  How are you?\n"
     ]
    },
    {
     "name": "stdout",
     "output_type": "stream",
     "text": [
      "پاسخ: 21\n"
     ]
    },
    {
     "name": "stdin",
     "output_type": "stream",
     "text": [
      "سوال خود را بپرسید:  Tell me a joke.\n"
     ]
    },
    {
     "name": "stdout",
     "output_type": "stream",
     "text": [
      "پاسخ: joke\n"
     ]
    },
    {
     "name": "stdin",
     "output_type": "stream",
     "text": [
      "سوال خود را بپرسید:  exit\n"
     ]
    },
    {
     "name": "stdout",
     "output_type": "stream",
     "text": [
      "خداحافظ!\n"
     ]
    }
   ],
   "source": [
    "import nltk\n",
    "from nltk.corpus import stopwords\n",
    "from nltk.stem import PorterStemmer\n",
    "from sklearn.feature_extraction.text import TfidfVectorizer\n",
    "from sklearn.tree import DecisionTreeClassifier\n",
    "\n",
    "# دانلود منابع مورد نیاز NLTK\n",
    "nltk.download(\"stopwords\")\n",
    "\n",
    "# پیش‌پردازش\n",
    "stop_words = set(stopwords.words(\"english\"))\n",
    "stemmer = PorterStemmer()\n",
    "\n",
    "def preprocess(text):\n",
    "    text = text.lower()\n",
    "    words = [word for word in text.split() if word not in stop_words]\n",
    "    stemmed = [stemmer.stem(word) for word in words]\n",
    "    return \" \".join(stemmed)\n",
    "\n",
    "# داده‌های نمونه\n",
    "raw_train_texts = [\"What is your name?\", \"How are you?\", \"Tell me a joke.\"]\n",
    "raw_train_labels = [\"Ahmadreza\", \"21\", \"joke\"]\n",
    "\n",
    "# پیش‌پردازش داده‌ها\n",
    "X_train = [preprocess(text) for text in raw_train_texts]\n",
    "y_train = raw_train_labels\n",
    "\n",
    "# برداری‌سازی\n",
    "vectorizer = TfidfVectorizer(max_features=500)\n",
    "X_train_vec = vectorizer.fit_transform(X_train)\n",
    "\n",
    "# آموزش مدل\n",
    "clf = DecisionTreeClassifier()\n",
    "clf.fit(X_train_vec, y_train)\n",
    "\n",
    "# پیش‌بینی پاسخ\n",
    "def predict_answer(question):\n",
    "    processed_question = preprocess(question)\n",
    "    question_vec = vectorizer.transform([processed_question])\n",
    "    predicted = clf.predict(question_vec)\n",
    "    return predicted[0]\n",
    "\n",
    "# رابط کاربری\n",
    "while True:\n",
    "    question = input(\"سوال خود را بپرسید: \")\n",
    "    if question.lower() in [\"exit\", \"quit\", \"bye\"]:\n",
    "        print(\"خداحافظ!\")\n",
    "        break\n",
    "    answer = predict_answer(question)\n",
    "    print(\"پاسخ:\", answer)\n"
   ]
  },
  {
   "cell_type": "code",
   "execution_count": null,
   "id": "dd49cc69-7709-44d9-b9a5-0c2003ef378b",
   "metadata": {},
   "outputs": [],
   "source": []
  }
 ],
 "metadata": {
  "kernelspec": {
   "display_name": "Python 3 (ipykernel)",
   "language": "python",
   "name": "python3"
  },
  "language_info": {
   "codemirror_mode": {
    "name": "ipython",
    "version": 3
   },
   "file_extension": ".py",
   "mimetype": "text/x-python",
   "name": "python",
   "nbconvert_exporter": "python",
   "pygments_lexer": "ipython3",
   "version": "3.11.7"
  }
 },
 "nbformat": 4,
 "nbformat_minor": 5
}
